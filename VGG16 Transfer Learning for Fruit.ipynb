{
 "cells": [
  {
   "cell_type": "code",
   "execution_count": 1,
   "metadata": {},
   "outputs": [
    {
     "name": "stderr",
     "output_type": "stream",
     "text": [
      "Using TensorFlow backend.\n"
     ]
    }
   ],
   "source": [
    "from keras.preprocessing.image import ImageDataGenerator, img_to_array, load_img\n",
    "from keras.models import Sequential\n",
    "from keras.layers import Dense\n",
    "from keras.applications.vgg16 import VGG16\n",
    "\n",
    "import matplotlib.pyplot as plt\n",
    "from glob import glob"
   ]
  },
  {
   "cell_type": "code",
   "execution_count": 2,
   "metadata": {},
   "outputs": [],
   "source": [
    "train_path = \"fruits-360/Training/\"\n",
    "test_path = \"fruits-360/Test/\""
   ]
  },
  {
   "cell_type": "code",
   "execution_count": 3,
   "metadata": {},
   "outputs": [
    {
     "data": {
      "image/png": "[encoded data removed]",
      "text/plain": [
       "<Figure size 432x288 with 1 Axes>"
      ]
     },
     "metadata": {
      "needs_background": "light"
     },
     "output_type": "display_data"
    }
   ],
   "source": [
    "img = load_img(train_path + \"Avocado/0_100.jpg\")\n",
    "\n",
    "plt.imshow(img)\n",
    "plt.axis(\"off\")\n",
    "plt.title(\"Avocado\")\n",
    "plt.show()"
   ]
  },
  {
   "cell_type": "code",
   "execution_count": 4,
   "metadata": {},
   "outputs": [
    {
     "name": "stdout",
     "output_type": "stream",
     "text": [
      "(100, 100, 3)\n"
     ]
    }
   ],
   "source": [
    "x = img_to_array(img)\n",
    "\n",
    "print(x.shape)"
   ]
  },
  {
   "cell_type": "code",
   "execution_count": 6,
   "metadata": {},
   "outputs": [
    {
     "name": "stdout",
     "output_type": "stream",
     "text": [
      "103\n"
     ]
    }
   ],
   "source": [
    "numberOfClass = len(glob(train_path + \"/*\"))\n",
    "\n",
    "print(numberOfClass)"
   ]
  },
  {
   "cell_type": "code",
   "execution_count": 7,
   "metadata": {},
   "outputs": [
    {
     "name": "stdout",
     "output_type": "stream",
     "text": [
      "WARNING:tensorflow:From d:\\anaconda\\envs\\tensor\\lib\\site-packages\\tensorflow\\python\\framework\\op_def_library.py:263: colocate_with (from tensorflow.python.framework.ops) is deprecated and will be removed in a future version.\n",
      "Instructions for updating:\n",
      "Colocations handled automatically by placer.\n",
      "Downloading data from https://github.com/fchollet/deep-learning-models/releases/download/v0.1/vgg16_weights_tf_dim_ordering_tf_kernels.h5\n",
      "553467904/553467096 [==============================] - 587s 1us/step\n"
     ]
    }
   ],
   "source": [
    "vgg = VGG16()"
   ]
  },
  {
   "cell_type": "code",
   "execution_count": 8,
   "metadata": {},
   "outputs": [
    {
     "name": "stdout",
     "output_type": "stream",
     "text": [
      "_________________________________________________________________\n",
      "Layer (type)                 Output Shape              Param #   \n",
      "=================================================================\n",
      "input_1 (InputLayer)         (None, 224, 224, 3)       0         \n",
      "_________________________________________________________________\n",
      "block1_conv1 (Conv2D)        (None, 224, 224, 64)      1792      \n",
      "_________________________________________________________________\n",
      "block1_conv2 (Conv2D)        (None, 224, 224, 64)      36928     \n",
      "_________________________________________________________________\n",
      "block1_pool (MaxPooling2D)   (None, 112, 112, 64)      0         \n",
      "_________________________________________________________________\n",
      "block2_conv1 (Conv2D)        (None, 112, 112, 128)     73856     \n",
      "_________________________________________________________________\n",
      "block2_conv2 (Conv2D)        (None, 112, 112, 128)     147584    \n",
      "_________________________________________________________________\n",
      "block2_pool (MaxPooling2D)   (None, 56, 56, 128)       0         \n",
      "_________________________________________________________________\n",
      "block3_conv1 (Conv2D)        (None, 56, 56, 256)       295168    \n",
      "_________________________________________________________________\n",
      "block3_conv2 (Conv2D)        (None, 56, 56, 256)       590080    \n",
      "_________________________________________________________________\n",
      "block3_conv3 (Conv2D)        (None, 56, 56, 256)       590080    \n",
      "_________________________________________________________________\n",
      "block3_pool (MaxPooling2D)   (None, 28, 28, 256)       0         \n",
      "_________________________________________________________________\n",
      "block4_conv1 (Conv2D)        (None, 28, 28, 512)       1180160   \n",
      "_________________________________________________________________\n",
      "block4_conv2 (Conv2D)        (None, 28, 28, 512)       2359808   \n",
      "_________________________________________________________________\n",
      "block4_conv3 (Conv2D)        (None, 28, 28, 512)       2359808   \n",
      "_________________________________________________________________\n",
      "block4_pool (MaxPooling2D)   (None, 14, 14, 512)       0         \n",
      "_________________________________________________________________\n",
      "block5_conv1 (Conv2D)        (None, 14, 14, 512)       2359808   \n",
      "_________________________________________________________________\n",
      "block5_conv2 (Conv2D)        (None, 14, 14, 512)       2359808   \n",
      "_________________________________________________________________\n",
      "block5_conv3 (Conv2D)        (None, 14, 14, 512)       2359808   \n",
      "_________________________________________________________________\n",
      "block5_pool (MaxPooling2D)   (None, 7, 7, 512)         0         \n",
      "_________________________________________________________________\n",
      "flatten (Flatten)            (None, 25088)             0         \n",
      "_________________________________________________________________\n",
      "fc1 (Dense)                  (None, 4096)              102764544 \n",
      "_________________________________________________________________\n",
      "fc2 (Dense)                  (None, 4096)              16781312  \n",
      "_________________________________________________________________\n",
      "predictions (Dense)          (None, 1000)              4097000   \n",
      "=================================================================\n",
      "Total params: 138,357,544\n",
      "Trainable params: 138,357,544\n",
      "Non-trainable params: 0\n",
      "_________________________________________________________________\n",
      "None\n"
     ]
    }
   ],
   "source": [
    "print(vgg.summary())"
   ]
  },
  {
   "cell_type": "code",
   "execution_count": 9,
   "metadata": {},
   "outputs": [
    {
     "name": "stdout",
     "output_type": "stream",
     "text": [
      "<class 'keras.engine.training.Model'>\n"
     ]
    }
   ],
   "source": [
    "print(type(vgg))"
   ]
  },
  {
   "cell_type": "code",
   "execution_count": 11,
   "metadata": {},
   "outputs": [
    {
     "data": {
      "text/plain": [
       "[<keras.engine.input_layer.InputLayer at 0x200286e6710>,\n",
       " <keras.layers.convolutional.Conv2D at 0x200103c0320>,\n",
       " <keras.layers.convolutional.Conv2D at 0x20028742ba8>,\n",
       " <keras.layers.pooling.MaxPooling2D at 0x20028990710>,\n",
       " <keras.layers.convolutional.Conv2D at 0x200289905c0>,\n",
       " <keras.layers.convolutional.Conv2D at 0x200289cf7b8>,\n",
       " <keras.layers.pooling.MaxPooling2D at 0x20028a969b0>,\n",
       " <keras.layers.convolutional.Conv2D at 0x20028a96518>,\n",
       " <keras.layers.convolutional.Conv2D at 0x20028706400>,\n",
       " <keras.layers.convolutional.Conv2D at 0x20028afec88>,\n",
       " <keras.layers.pooling.MaxPooling2D at 0x20028c7bcc0>,\n",
       " <keras.layers.convolutional.Conv2D at 0x20028c9f518>,\n",
       " <keras.layers.convolutional.Conv2D at 0x20028d1c160>,\n",
       " <keras.layers.convolutional.Conv2D at 0x20028d8c780>,\n",
       " <keras.layers.pooling.MaxPooling2D at 0x20028d0e860>,\n",
       " <keras.layers.convolutional.Conv2D at 0x20028d0eeb8>,\n",
       " <keras.layers.convolutional.Conv2D at 0x20028b67860>,\n",
       " <keras.layers.convolutional.Conv2D at 0x20028d56550>,\n",
       " <keras.layers.pooling.MaxPooling2D at 0x20028850b38>,\n",
       " <keras.layers.core.Flatten at 0x20028850668>,\n",
       " <keras.layers.core.Dense at 0x20028948eb8>,\n",
       " <keras.layers.core.Dense at 0x20028b72f28>,\n",
       " <keras.layers.core.Dense at 0x20028742198>]"
      ]
     },
     "execution_count": 11,
     "metadata": {},
     "output_type": "execute_result"
    }
   ],
   "source": [
    "vgg_layer_list = vgg.layers\n",
    "\n",
    "vgg_layer_list"
   ]
  },
  {
   "cell_type": "code",
   "execution_count": 13,
   "metadata": {},
   "outputs": [
    {
     "data": {
      "text/plain": [
       "23"
      ]
     },
     "execution_count": 13,
     "metadata": {},
     "output_type": "execute_result"
    }
   ],
   "source": [
    "len(vgg_layer_list)"
   ]
  },
  {
   "cell_type": "code",
   "execution_count": 14,
   "metadata": {},
   "outputs": [
    {
     "data": {
      "text/plain": [
       "<keras.layers.core.Dense at 0x20028742198>"
      ]
     },
     "execution_count": 14,
     "metadata": {},
     "output_type": "execute_result"
    }
   ],
   "source": [
    "vgg_layer_list[-1]"
   ]
  },
  {
   "cell_type": "code",
   "execution_count": 15,
   "metadata": {},
   "outputs": [],
   "source": [
    "model = Sequential()\n",
    "\n",
    "for i in range(len(vgg_layer_list)-1):\n",
    "    model.add(vgg_layer_list[i])"
   ]
  },
  {
   "cell_type": "code",
   "execution_count": 16,
   "metadata": {},
   "outputs": [
    {
     "name": "stdout",
     "output_type": "stream",
     "text": [
      "_________________________________________________________________\n",
      "Layer (type)                 Output Shape              Param #   \n",
      "=================================================================\n",
      "block1_conv1 (Conv2D)        (None, 224, 224, 64)      1792      \n",
      "_________________________________________________________________\n",
      "block1_conv2 (Conv2D)        (None, 224, 224, 64)      36928     \n",
      "_________________________________________________________________\n",
      "block1_pool (MaxPooling2D)   (None, 112, 112, 64)      0         \n",
      "_________________________________________________________________\n",
      "block2_conv1 (Conv2D)        (None, 112, 112, 128)     73856     \n",
      "_________________________________________________________________\n",
      "block2_conv2 (Conv2D)        (None, 112, 112, 128)     147584    \n",
      "_________________________________________________________________\n",
      "block2_pool (MaxPooling2D)   (None, 56, 56, 128)       0         \n",
      "_________________________________________________________________\n",
      "block3_conv1 (Conv2D)        (None, 56, 56, 256)       295168    \n",
      "_________________________________________________________________\n",
      "block3_conv2 (Conv2D)        (None, 56, 56, 256)       590080    \n",
      "_________________________________________________________________\n",
      "block3_conv3 (Conv2D)        (None, 56, 56, 256)       590080    \n",
      "_________________________________________________________________\n",
      "block3_pool (MaxPooling2D)   (None, 28, 28, 256)       0         \n",
      "_________________________________________________________________\n",
      "block4_conv1 (Conv2D)        (None, 28, 28, 512)       1180160   \n",
      "_________________________________________________________________\n",
      "block4_conv2 (Conv2D)        (None, 28, 28, 512)       2359808   \n",
      "_________________________________________________________________\n",
      "block4_conv3 (Conv2D)        (None, 28, 28, 512)       2359808   \n",
      "_________________________________________________________________\n",
      "block4_pool (MaxPooling2D)   (None, 14, 14, 512)       0         \n",
      "_________________________________________________________________\n",
      "block5_conv1 (Conv2D)        (None, 14, 14, 512)       2359808   \n",
      "_________________________________________________________________\n",
      "block5_conv2 (Conv2D)        (None, 14, 14, 512)       2359808   \n",
      "_________________________________________________________________\n",
      "block5_conv3 (Conv2D)        (None, 14, 14, 512)       2359808   \n",
      "_________________________________________________________________\n",
      "block5_pool (MaxPooling2D)   (None, 7, 7, 512)         0         \n",
      "_________________________________________________________________\n",
      "flatten (Flatten)            (None, 25088)             0         \n",
      "_________________________________________________________________\n",
      "fc1 (Dense)                  (None, 4096)              102764544 \n",
      "_________________________________________________________________\n",
      "fc2 (Dense)                  (None, 4096)              16781312  \n",
      "=================================================================\n",
      "Total params: 134,260,544\n",
      "Trainable params: 134,260,544\n",
      "Non-trainable params: 0\n",
      "_________________________________________________________________\n",
      "None\n"
     ]
    }
   ],
   "source": [
    "print(model.summary())"
   ]
  },
  {
   "cell_type": "code",
   "execution_count": 17,
   "metadata": {},
   "outputs": [
    {
     "data": {
      "text/plain": [
       "[<keras.layers.convolutional.Conv2D at 0x200103c0320>,\n",
       " <keras.layers.convolutional.Conv2D at 0x20028742ba8>,\n",
       " <keras.layers.pooling.MaxPooling2D at 0x20028990710>,\n",
       " <keras.layers.convolutional.Conv2D at 0x200289905c0>,\n",
       " <keras.layers.convolutional.Conv2D at 0x200289cf7b8>,\n",
       " <keras.layers.pooling.MaxPooling2D at 0x20028a969b0>,\n",
       " <keras.layers.convolutional.Conv2D at 0x20028a96518>,\n",
       " <keras.layers.convolutional.Conv2D at 0x20028706400>,\n",
       " <keras.layers.convolutional.Conv2D at 0x20028afec88>,\n",
       " <keras.layers.pooling.MaxPooling2D at 0x20028c7bcc0>,\n",
       " <keras.layers.convolutional.Conv2D at 0x20028c9f518>,\n",
       " <keras.layers.convolutional.Conv2D at 0x20028d1c160>,\n",
       " <keras.layers.convolutional.Conv2D at 0x20028d8c780>,\n",
       " <keras.layers.pooling.MaxPooling2D at 0x20028d0e860>,\n",
       " <keras.layers.convolutional.Conv2D at 0x20028d0eeb8>,\n",
       " <keras.layers.convolutional.Conv2D at 0x20028b67860>,\n",
       " <keras.layers.convolutional.Conv2D at 0x20028d56550>,\n",
       " <keras.layers.pooling.MaxPooling2D at 0x20028850b38>,\n",
       " <keras.layers.core.Flatten at 0x20028850668>,\n",
       " <keras.layers.core.Dense at 0x20028948eb8>,\n",
       " <keras.layers.core.Dense at 0x20028b72f28>]"
      ]
     },
     "execution_count": 17,
     "metadata": {},
     "output_type": "execute_result"
    }
   ],
   "source": [
    "model.layers"
   ]
  },
  {
   "cell_type": "code",
   "execution_count": 18,
   "metadata": {},
   "outputs": [],
   "source": [
    "for layers in model.layers:\n",
    "    layers.trainable = False"
   ]
  },
  {
   "cell_type": "code",
   "execution_count": 19,
   "metadata": {},
   "outputs": [
    {
     "name": "stdout",
     "output_type": "stream",
     "text": [
      "_________________________________________________________________\n",
      "Layer (type)                 Output Shape              Param #   \n",
      "=================================================================\n",
      "block1_conv1 (Conv2D)        (None, 224, 224, 64)      1792      \n",
      "_________________________________________________________________\n",
      "block1_conv2 (Conv2D)        (None, 224, 224, 64)      36928     \n",
      "_________________________________________________________________\n",
      "block1_pool (MaxPooling2D)   (None, 112, 112, 64)      0         \n",
      "_________________________________________________________________\n",
      "block2_conv1 (Conv2D)        (None, 112, 112, 128)     73856     \n",
      "_________________________________________________________________\n",
      "block2_conv2 (Conv2D)        (None, 112, 112, 128)     147584    \n",
      "_________________________________________________________________\n",
      "block2_pool (MaxPooling2D)   (None, 56, 56, 128)       0         \n",
      "_________________________________________________________________\n",
      "block3_conv1 (Conv2D)        (None, 56, 56, 256)       295168    \n",
      "_________________________________________________________________\n",
      "block3_conv2 (Conv2D)        (None, 56, 56, 256)       590080    \n",
      "_________________________________________________________________\n",
      "block3_conv3 (Conv2D)        (None, 56, 56, 256)       590080    \n",
      "_________________________________________________________________\n",
      "block3_pool (MaxPooling2D)   (None, 28, 28, 256)       0         \n",
      "_________________________________________________________________\n",
      "block4_conv1 (Conv2D)        (None, 28, 28, 512)       1180160   \n",
      "_________________________________________________________________\n",
      "block4_conv2 (Conv2D)        (None, 28, 28, 512)       2359808   \n",
      "_________________________________________________________________\n",
      "block4_conv3 (Conv2D)        (None, 28, 28, 512)       2359808   \n",
      "_________________________________________________________________\n",
      "block4_pool (MaxPooling2D)   (None, 14, 14, 512)       0         \n",
      "_________________________________________________________________\n",
      "block5_conv1 (Conv2D)        (None, 14, 14, 512)       2359808   \n",
      "_________________________________________________________________\n",
      "block5_conv2 (Conv2D)        (None, 14, 14, 512)       2359808   \n",
      "_________________________________________________________________\n",
      "block5_conv3 (Conv2D)        (None, 14, 14, 512)       2359808   \n",
      "_________________________________________________________________\n",
      "block5_pool (MaxPooling2D)   (None, 7, 7, 512)         0         \n",
      "_________________________________________________________________\n",
      "flatten (Flatten)            (None, 25088)             0         \n",
      "_________________________________________________________________\n",
      "fc1 (Dense)                  (None, 4096)              102764544 \n",
      "_________________________________________________________________\n",
      "fc2 (Dense)                  (None, 4096)              16781312  \n",
      "_________________________________________________________________\n",
      "dense_1 (Dense)              (None, 103)               421991    \n",
      "=================================================================\n",
      "Total params: 134,682,535\n",
      "Trainable params: 421,991\n",
      "Non-trainable params: 134,260,544\n",
      "_________________________________________________________________\n",
      "None\n"
     ]
    }
   ],
   "source": [
    "model.add(Dense(numberOfClass, activation=\"softmax\"))\n",
    "\n",
    "print(model.summary())"
   ]
  },
  {
   "cell_type": "code",
   "execution_count": 20,
   "metadata": {},
   "outputs": [],
   "source": [
    "model.compile(loss = \"categorical_crossentropy\",\n",
    "              optimizer = \"rmsprop\",\n",
    "              metrics = [\"accuracy\"])"
   ]
  },
  {
   "cell_type": "code",
   "execution_count": 21,
   "metadata": {},
   "outputs": [
    {
     "name": "stdout",
     "output_type": "stream",
     "text": [
      "Found 53177 images belonging to 103 classes.\n",
      "Found 17845 images belonging to 103 classes.\n"
     ]
    }
   ],
   "source": [
    "train_data = ImageDataGenerator().flow_from_directory(train_path,target_size = (224,224))\n",
    "\n",
    "test_data = ImageDataGenerator().flow_from_directory(test_path,target_size = (224,224))"
   ]
  },
  {
   "cell_type": "code",
   "execution_count": 22,
   "metadata": {},
   "outputs": [],
   "source": [
    "batch_size = 32"
   ]
  },
  {
   "cell_type": "code",
   "execution_count": 23,
   "metadata": {},
   "outputs": [
    {
     "name": "stdout",
     "output_type": "stream",
     "text": [
      "WARNING:tensorflow:From d:\\anaconda\\envs\\tensor\\lib\\site-packages\\tensorflow\\python\\ops\\math_ops.py:3066: to_int32 (from tensorflow.python.ops.math_ops) is deprecated and will be removed in a future version.\n",
      "Instructions for updating:\n",
      "Use tf.cast instead.\n",
      "Epoch 1/25\n",
      "50/50 [==============================] - 65s 1s/step - loss: 4.4703 - acc: 0.4206 - val_loss: 2.0640 - val_acc: 0.6625\n",
      "Epoch 2/25\n",
      "50/50 [==============================] - 35s 695ms/step - loss: 1.7137 - acc: 0.7638 - val_loss: 1.4123 - val_acc: 0.8013\n",
      "Epoch 3/25\n",
      "50/50 [==============================] - 38s 751ms/step - loss: 1.2074 - acc: 0.8612 - val_loss: 1.3822 - val_acc: 0.8200\n",
      "Epoch 4/25\n",
      "50/50 [==============================] - 39s 784ms/step - loss: 1.1523 - acc: 0.8838 - val_loss: 1.2017 - val_acc: 0.8712\n",
      "Epoch 5/25\n",
      "50/50 [==============================] - 35s 708ms/step - loss: 1.1825 - acc: 0.8931 - val_loss: 1.3641 - val_acc: 0.8525\n",
      "Epoch 6/25\n",
      "50/50 [==============================] - 35s 699ms/step - loss: 1.2594 - acc: 0.8988 - val_loss: 1.2146 - val_acc: 0.8725\n",
      "Epoch 7/25\n",
      "50/50 [==============================] - 36s 714ms/step - loss: 1.0659 - acc: 0.9100 - val_loss: 1.4797 - val_acc: 0.8425\n",
      "Epoch 8/25\n",
      "50/50 [==============================] - 35s 705ms/step - loss: 1.0362 - acc: 0.9181 - val_loss: 1.2522 - val_acc: 0.8938\n",
      "Epoch 9/25\n",
      "50/50 [==============================] - 32s 650ms/step - loss: 1.0143 - acc: 0.9275 - val_loss: 1.2639 - val_acc: 0.8875\n",
      "Epoch 10/25\n",
      "50/50 [==============================] - 33s 667ms/step - loss: 1.1045 - acc: 0.9206 - val_loss: 1.1124 - val_acc: 0.8912\n",
      "Epoch 11/25\n",
      "50/50 [==============================] - 34s 686ms/step - loss: 1.0260 - acc: 0.9125 - val_loss: 0.8407 - val_acc: 0.9137\n",
      "Epoch 12/25\n",
      "50/50 [==============================] - 31s 626ms/step - loss: 0.7395 - acc: 0.9387 - val_loss: 0.9326 - val_acc: 0.9113\n",
      "Epoch 13/25\n",
      "50/50 [==============================] - 30s 596ms/step - loss: 0.6846 - acc: 0.9431 - val_loss: 0.8444 - val_acc: 0.9100\n",
      "Epoch 14/25\n",
      "50/50 [==============================] - 31s 614ms/step - loss: 0.7458 - acc: 0.9419 - val_loss: 0.9299 - val_acc: 0.9113\n",
      "Epoch 15/25\n",
      "50/50 [==============================] - 30s 604ms/step - loss: 0.8382 - acc: 0.9412 - val_loss: 1.0174 - val_acc: 0.9038\n",
      "Epoch 16/25\n",
      "50/50 [==============================] - 29s 573ms/step - loss: 0.8090 - acc: 0.9463 - val_loss: 0.7824 - val_acc: 0.9263\n",
      "Epoch 17/25\n",
      "50/50 [==============================] - 29s 576ms/step - loss: 0.7934 - acc: 0.9450 - val_loss: 0.9497 - val_acc: 0.9137\n",
      "Epoch 18/25\n",
      "50/50 [==============================] - 29s 576ms/step - loss: 0.8346 - acc: 0.9419 - val_loss: 0.9119 - val_acc: 0.9113\n",
      "Epoch 19/25\n",
      "50/50 [==============================] - 29s 587ms/step - loss: 0.6872 - acc: 0.9506 - val_loss: 0.7344 - val_acc: 0.9313\n",
      "Epoch 20/25\n",
      "50/50 [==============================] - 32s 636ms/step - loss: 0.6290 - acc: 0.9513 - val_loss: 0.5785 - val_acc: 0.9263\n",
      "Epoch 21/25\n",
      "50/50 [==============================] - 29s 581ms/step - loss: 0.7190 - acc: 0.9513 - val_loss: 0.9790 - val_acc: 0.9025\n",
      "Epoch 22/25\n",
      "50/50 [==============================] - 29s 584ms/step - loss: 0.4672 - acc: 0.9637 - val_loss: 0.8721 - val_acc: 0.9075\n",
      "Epoch 23/25\n",
      "50/50 [==============================] - 32s 644ms/step - loss: 0.5223 - acc: 0.9644 - val_loss: 0.6054 - val_acc: 0.9404\n",
      "Epoch 24/25\n",
      "50/50 [==============================] - 29s 588ms/step - loss: 0.6315 - acc: 0.9550 - val_loss: 0.7786 - val_acc: 0.9175\n",
      "Epoch 25/25\n",
      "50/50 [==============================] - 29s 581ms/step - loss: 0.5736 - acc: 0.9619 - val_loss: 0.6573 - val_acc: 0.9400\n"
     ]
    }
   ],
   "source": [
    "hist = model.fit_generator(train_data,\n",
    "                           steps_per_epoch=1600//batch_size,\n",
    "                           epochs= 25,\n",
    "                           validation_data=test_data,\n",
    "                           validation_steps= 800//batch_size)"
   ]
  },
  {
   "cell_type": "code",
   "execution_count": 24,
   "metadata": {},
   "outputs": [],
   "source": [
    "model.save_weights(\"furit_vgg16_model.h5\")"
   ]
  },
  {
   "cell_type": "code",
   "execution_count": 25,
   "metadata": {},
   "outputs": [
    {
     "name": "stdout",
     "output_type": "stream",
     "text": [
      "dict_keys(['val_loss', 'val_acc', 'loss', 'acc'])\n"
     ]
    }
   ],
   "source": [
    "print(hist.history.keys())"
   ]
  },
  {
   "cell_type": "code",
   "execution_count": 26,
   "metadata": {},
   "outputs": [
    {
     "data": {
      "image/png": "[encoded data removed]",
      "text/plain": [
       "<Figure size 432x288 with 1 Axes>"
      ]
     },
     "metadata": {
      "needs_background": "light"
     },
     "output_type": "display_data"
    },
    {
     "data": {
      "image/png": "[encoded data removed]",
      "text/plain": [
       "<Figure size 432x288 with 1 Axes>"
      ]
     },
     "metadata": {
      "needs_background": "light"
     },
     "output_type": "display_data"
    }
   ],
   "source": [
    "plt.plot(hist.history[\"loss\"],label = \"training loss\")\n",
    "plt.plot(hist.history[\"val_loss\"],label = \"validation loss\")\n",
    "plt.legend()\n",
    "plt.show()\n",
    "plt.figure()\n",
    "\n",
    "plt.plot(hist.history[\"acc\"],label = \"training acc\")\n",
    "plt.plot(hist.history[\"val_acc\"],label = \"validation acc\")\n",
    "plt.legend()\n",
    "plt.show()"
   ]
  },
  {
   "cell_type": "code",
   "execution_count": 28,
   "metadata": {},
   "outputs": [],
   "source": [
    "#save history\n",
    "\n",
    "import json, codecs\n",
    "with open(\"hist_fruit.json\",\"w\") as f:\n",
    "    json.dump(hist.history,f)"
   ]
  },
  {
   "cell_type": "code",
   "execution_count": null,
   "metadata": {},
   "outputs": [],
   "source": []
  }
 ],
 "metadata": {
  "kernelspec": {
   "display_name": "Python 3",
   "language": "python",
   "name": "python3"
  },
  "language_info": {
   "codemirror_mode": {
    "name": "ipython",
    "version": 3
   },
   "file_extension": ".py",
   "mimetype": "text/x-python",
   "name": "python",
   "nbconvert_exporter": "python",
   "pygments_lexer": "ipython3",
   "version": "3.6.8"
  }
 },
 "nbformat": 4,
 "nbformat_minor": 2
}
